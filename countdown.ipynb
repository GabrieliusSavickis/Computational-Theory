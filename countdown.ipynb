{
 "cells": [
  {
   "cell_type": "markdown",
   "metadata": {},
   "source": [
    "# Countdown Numbers Game: An Analysis of Computational Complexity and Solution Design"
   ]
  },
  {
   "attachments": {
    "image.png": {
     "image/png": "[encoded data removed]"
    }
   },
   "cell_type": "markdown",
   "metadata": {},
   "source": [
    "## 1. Introduction to the Countdown Numbers Game\n",
    "The Countdown Numbers Game is a fascinating segment of the popular TV programme Countdown, presenting contestants with a unique numerical challenge. The game's objective is straightforward: contestants are provided with six randomly selected numbers and a randomly generated target number. They must combine the six numbers using basic arithmetic operations - addition, subtraction, multiplication and division - to reach the target number within 30 seconds. The chosen numbers consist of two sets of integers from 1 to 10 (inclusive) and one set of larget numbers (25, 50, 75, 100). The target number lies within the range of 101 to 999, inclusive.[1](https://en.wikipedia.org/wiki/Countdown_(game_show))\n",
    "\n",
    "<b>Game Rules</b>\n",
    "1. <b>Number Selection:</b> Six numbers are selected from two sets of 1-10 and one of 25, 50, 75, 100.\n",
    "2. <b>Target Generation:</b> A random target number between 101 and 999 is chosen.\n",
    "3. <b>Arithmetic Operations:</b> Contestants can use addition(+), subtraction(-), multiplication(x), and division(÷) to reach the target.\n",
    "4. <b>Operation Constraints:</b> Each of the six numbers can be used once; division must result in whole numbers, and subtraction must yield positive outcomes.\n",
    "\n",
    "Example: [2](https://www.maths-resources.com/countdown/practise.html#numbers) <br/>\n",
    "![image.png](attachment:image.png) <br/>\n",
    "The 6 Random Numbers are 5, 9, 4, 7, 6, 3. The target to reach is 215.<br/>\n",
    "<b>Solution:</b><br/>\n",
    "7 + 3 = 10 <br/>\n",
    "10 * 5 * 4 = 200 <br/>\n",
    "200 + 9 + 6 = <b>215</b>\n",
    "\n",
    "### Computational Problems:\n",
    "The game encapsulates several computational problems typical in everyday computing tasks, such as optimization, search, and constraint satisfaction.\n",
    "\n",
    "* <b>Optimization:</b> Finding the most efficient way to reach the target number represents an optimization problem, where efficiency is measured by the closeness to the target number and the minimality of operations used.\n",
    "* <b>Search Problem:</b> The process of exploring the possible combinations of numbers and operations to achieve the target number can be viewed as a search problem within a vast solution space.\n",
    "* <b>Constraint Satisfaction:</b> The game's rules introduce constraints(e.g., operation results must be whole numbers), turning the challenge into a constraint satisfaction problem, where solutions must adhere to specific requirements.\n",
    "\n",
    "### Common Computational Models:\n",
    "In addresing these computational problems, we refer to common models of computation that provide the theoretical framework for understanding and designing algorithms:\n",
    "\n",
    "* <b>Turing Machines:</b> As a universal model of computation, Turing machines offer a way to represent the computations needed to solve the numbers game through state transitions and symbol manipulations[3](https://drive.uqu.edu.sa/_/mskhayat/files/MySubjects/20189FS%20ComputationTheory/Introduction%20to%20the%20theory%20of%20computation_third%20edition%20-%20Michael%20Sipser.pdf).\n",
    "* <b>Lambda Calculus:</b> This formal system for expressing computation based on function abstraction and application can be used to model the functional programming aspects of solving the game[4](https://www.cambridge.org/core/journals/journal-of-symbolic-logic/article/abs/h-p-barendregt-the-lambda-calculus-its-syntax-and-semantics-studies-in-logic-and-foundations-of-mathematics-vol-103-northholland-publishing-company-amsterdam-new-york-and-oxford-1981-xiv-615-pp/74028D727872CB212F8F2F0D27775A10)\n",
    "* <b>Von Neumann Architecture:</b> While not a computational model per se, udnerstanding the practicla execution of algorithms on hardware (sequential instruction processing) can shed light on performance considerations[5](https://acs.pub.ro/~cpop/SMPA/Computer%20Architecture%20A%20Quantitative%20Approach%20(5th%20edition).pdf).\n",
    "\n",
    "### Computational Paradigms in Program Design\n",
    "Solving the Countdown numbers game involves leveraging different computational paradigms:\n",
    "\n",
    "* <b>Procedural Programming:</b> Directly translating the solution algorithm into a sequence of computational steps.\n",
    "* <b>Object-oriented Programming:</b> Modeling game elements (numbers, operations) as objects to encapsulate behavior and data.\n",
    "* <b>Functional Programming:</b> Using pure functions and avoiding shared state to express the solution in a declarative manner, facilitating reasoning about the algorithm's correctness and potential parallel execution."
   ]
  },
  {
   "cell_type": "markdown",
   "metadata": {},
   "source": [
    "## 2. Computational Complexity Analysis\n",
    "The Countdown numbers game, at its core, involves solving a number-targeting problem through arithmetic operations. The computational complexity of this game can be assessed from two main perspectives: the search space complexity and the algorithmetic complexity.\n",
    "\n",
    "### Search Space Complexity\n",
    "The search space for the Countdown numbers game is vast. With six numbers and four possible operations, the number of possible combinations can be significant. The complexity can be approximated by considering the permutations of numbers and the combinations of operations. If $N$ represents the total number of numbers and $O$ the numbers of operations, the search space complexity can be approximated as $ O(N!\\times O^N) $, achknowledging that each number can be used once and each operation can be applied in various sequence.\n",
    "\n",
    "### Algorithmic Complexity\n",
    "The algorithm to solve the Countdown numbers game can vary in complexity based on the approach taken. A brute-force method, which tries every possible combinations of numbers and operations, has an exponential time complexity. However, more sophisticated algorithms that employ heuristic methods or pruning strategies to reduce the search space can achieve better efficiency. The goal is to minimize the time complexity while ensuring that the algorithm remains feasible for execution within practical limits.\n",
    "\n",
    "### Solution Approach Methodology\n",
    "To tackle the Countdown numbers game, a multi-faceted approach is proposed, integrating both brute-force and heuristic strategies. \n",
    "\n",
    "#### Brute-Force Component\n",
    "1. <b>Enumeration of Possibilities:</b> Generate all possible sequences of numbers and operations.\n",
    "2. <b>Evaluation:</b> Assess each combination to check if it reaches the target number.\n",
    "3. <b>Constraint Handling:</b> Ensure division results in whole numbers and subtraction in positive numbers.\n",
    "\n",
    "#### Heuristic Component\n",
    "1. <b>Nearest Neighbor Heuristic:</b> Prioritize operations that bring the result closer to the target number.\n",
    "2. <b>Pruning:</b> Eliminate paths that violate constraints or diverge significantly from the target, reducing the search space.\n",
    "3. <b>Iterative Deepening:</b> Explore the search space iteratively, starting with simpler combinations and gradually increasing complexity.\n",
    "\n",
    "### Research Findings\n",
    "A review of existing literature reveals that hte Countdown numbers game is akin to other well-studied computational problems, such as the Knapsack Problem[6](https://www.geeksforgeeks.org/introduction-to-knapsack-problem-its-types-and-how-to-solve-them/) and the Traveling Salesman problem[7](https://www.geeksforgeeks.org/travelling-salesman-problem-using-dynamic-programming/).\n",
    "\n",
    "* <b>Comparison with Similar Problems:</b> The methodologies in solving classical optimisation problems offer insights into tackling the Countdown game. Techniques like dynamic programming, backtracking and branch and bound have proven effective in similar contexts[8](https://link.springer.com/chapter/10.1007/978-3-319-91908-9_3).\n",
    "* <b>Innovative Approaches:</b> Recent research has investigated the use of genetic algorithms, simulated annealing, and neural networks to solve numerical optimisation challenges. These methods could be applied to create more efficient solutions for the Countdown numbers game[9](https://dl.acm.org/doi/10.5555/534133).\n",
    "* <b>Algorithmic Improvements:</b> Continuous research in algorithmic theory provides new strategies for improving the efficiency of search algorithms, potentially applicable to solving the Countdown game more effectively[10](https://pd.daffodilvarsity.edu.bd/course/material/book-430/pdf_content)."
   ]
  },
  {
   "cell_type": "markdown",
   "metadata": {},
   "source": [
    "## 3. Development of the 'solve_numbers' Function\n",
    "The <b>solve_numbers</b> function aims to find a way to reach a given target number using a set of six numbers and the operations of addition, subtraction, multiplication and division under specific constraints."
   ]
  },
  {
   "cell_type": "code",
   "execution_count": 2,
   "metadata": {},
   "outputs": [
    {
     "name": "stdout",
     "output_type": "stream",
     "text": [
      "None\n",
      "Solution: None\n",
      "Solution: None\n",
      "Solution: None\n"
     ]
    }
   ],
   "source": [
    "from itertools import permutations, product\n",
    "\n",
    "def solve_numbers(numbers, target):\n",
    "    # Generate all permutations of numbers and possible operations\n",
    "    operations = ['+', '-', '*', '/']\n",
    "    all_combinations = product(permutations(numbers, len(numbers)), product(operations, repeat=len(numbers)-1))\n",
    "\n",
    "    for number_permutation, operation_permutation in all_combinations:\n",
    "        # Build expression from numbers and operations\n",
    "        expression = f\"{number_permutation[0]}\"\n",
    "        for num, op in zip(number_permutation[1:], operation_permutation):\n",
    "            if op == '/' and (expression.endswith('/') or num == 0):\n",
    "                break  # avoid division by zero\n",
    "            expression += f\" {op} {num}\"\n",
    "        \n",
    "        # Evaluate expression if it's valid\n",
    "        try:\n",
    "            if eval(expression) == target:\n",
    "                return expression  # Return the first valid expression found\n",
    "        except:\n",
    "            continue\n",
    "\n",
    "    return None  # If no solution found\n",
    "\n",
    "# Example use case\n",
    "numbers = [100, 75, 10, 2, 2, 9]\n",
    "target = 853\n",
    "print(solve_numbers(numbers, target))"
   ]
  },
  {
   "cell_type": "markdown",
   "metadata": {},
   "source": [
    "# References\n",
    "1. Wikipedia *Countdown Numbers Game.* \\\n",
    "Explains the game show Countdown\n",
    "2. *Maths-Resources.* \\\n",
    "Allows users to play an online game of Countdown Numbers\n",
    "3. Sipser, M. (2013). *Introduction to the Theory of Computation.* \\\n",
    "Explains the concept of Turing machines as a fundamental model of computation.\n",
    "4. Barendregt, H. (1984). *The Lambda Calculus, Its Syntax and Semantics.* \\\n",
    "Studies in Logic and the Foundations of Mathemtics. Offers a comprehensive overview of lambda calculus as a model for computation.\n",
    "5. Hennessy, J. L., & Patterson, D. A. (2011). *Computer Architecture: A Quantitative Approach.* \\\n",
    "Discusses the von Neumann architecture and its relevance to executing computational algorithms.\n",
    "6. Animeshdey (2023). GeeksForGeeks. *Introduction to Knapsack Problem, its Types and How to solve them*.\n",
    "7. GeeksForGeeks (2023). *Travelling salesman Problem using Dynamic Programming*.\n",
    "8. Korte, B., & Vygen, J. (2012). Springer. *Combinatorial Optimization: Theory and Algorithms.* \\\n",
    "Discusses algorithms and strategies for solving combinatorial optimization problems. \n",
    "9. Goldberg, D. E. (1989). ACM Digital Library. *Genetic Algorithms in Search, Optimization, and Machine Learning* \\\n",
    "Explores the use of genetic algorithms for optimisation problems. \n",
    "10. Cormen, T. H., Leiserson, C. E., Rivest, R. L., & Stein, C. (2009). Daffodilvarsity. *Introduction to Algorithms (Third Edition).* \\\n",
    "Provides a comprehensive overview of algorithmic strategies, including those applicable to optimization and search problems."
   ]
  }
 ],
 "metadata": {
  "kernelspec": {
   "display_name": "base",
   "language": "python",
   "name": "python3"
  },
  "language_info": {
   "codemirror_mode": {
    "name": "ipython",
    "version": 3
   },
   "file_extension": ".py",
   "mimetype": "text/x-python",
   "name": "python",
   "nbconvert_exporter": "python",
   "pygments_lexer": "ipython3",
   "version": "3.9.18"
  }
 },
 "nbformat": 4,
 "nbformat_minor": 2
}
