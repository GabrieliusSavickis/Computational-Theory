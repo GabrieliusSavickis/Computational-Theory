{
 "cells": [
  {
   "cell_type": "markdown",
   "metadata": {},
   "source": [
    "# Countdown Numbers Game: An Analysis of Computational Complexity and Solution Design"
   ]
  },
  {
   "attachments": {
    "image.png": {
     "image/png": "[encoded data removed]"
    }
   },
   "cell_type": "markdown",
   "metadata": {},
   "source": [
    "## 1. Research & Understanding the Problem\n",
    "\n",
    "### Understanding the Countdown Numbers Game: \n",
    "To excel at any complex task, one must first master its fundamentals. This is especially true for the Countdown Numbers Game, a seemingly simple yet intellectually stimulating segment from the renowned television show. The game's objective is elegantly clear: contestants are presented with six numbers drawn from a special set. Two sets of the integers from 1 to 10, and one set each of the the larger numbers 25, 50, 75, 100. Their goal is to use these numbers in any combination of addition, subtraction, multiplication, and division to arrive as close as possible to a randomly generated target number between 101 and 999 - all while being under a 30-second time limit. [1](https://en.wikipedia.org/wiki/Countdown_(game_show))\n",
    "\n",
    "Example: [2](https://www.maths-resources.com/countdown/practise.html#numbers) <br/>\n",
    "![image.png](attachment:image.png) <br/>\n",
    "The 6 Random Numbers are 5, 9, 4, 7, 6, 3. The target to reach is 215.<br/>\n",
    "<b>Solution:</b><br/>\n",
    "7 + 3 = 10 <br/>\n",
    "10 * 5 * 4 = 200 <br/>\n",
    "200 + 9 + 6 = <b>215</b>\n",
    "\n",
    "### Indentify Computational Problems:\n",
    "Recognize the computational difficulties inherent in the game, such as dealing with permutations and combinations of numbers and operations.\n",
    "\n",
    "### Define the Common Computational Models:\n",
    "Review common models of computation such as turing machines, finite automata and lambda calculus. [1](https://cs.brown.edu/people/jsavage/book/pdfs/ModelsOfComputation.pdf)\n",
    "\n",
    "### Research Algorithm Complexity:\n",
    "Look into existing literature on algorithm complexity, focusing on problems of a similar nature to the Countdown game."
   ]
  },
  {
   "cell_type": "markdown",
   "metadata": {},
   "source": [
    "# References\n",
    "[1](https://en.wikipedia.org/wiki/Countdown_(game_show))\n",
    "[2](https://www.maths-resources.com/countdown/practise.html#numbers)"
   ]
  }
 ],
 "metadata": {
  "kernelspec": {
   "display_name": "base",
   "language": "python",
   "name": "python3"
  },
  "language_info": {
   "name": "python",
   "version": "3.11.7"
  }
 },
 "nbformat": 4,
 "nbformat_minor": 2
}
