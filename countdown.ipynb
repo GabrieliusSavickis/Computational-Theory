{
 "cells": [
  {
   "cell_type": "markdown",
   "metadata": {},
   "source": [
    "# Countdown Numbers Game: An Analysis of Computational Complexity and Solution Design"
   ]
  },
  {
   "attachments": {
    "image.png": {
     "image/png": "[encoded data removed]"
    }
   },
   "cell_type": "markdown",
   "metadata": {},
   "source": [
    "## 1. Introduction to the Countdown Numbers Game\n",
    "The Countdown Numbers Game is a fascinating segment of the popular TV programme Countdown, presenting contestants with a unique numerical challenge. The game's objective is straightforward: contestants are provided with six randomly selected numbers and a randomly generated target number. They must combine the six numbers using basic arithmetic operations - addition, subtraction, multiplication and division - to reach the target number within 30 seconds. The chosen numbers consist of two sets of integers from 1 to 10 (inclusive) and one set of larget numbers (25, 50, 75, 100). The target number lies within the range of 101 to 999, inclusive.[1](https://en.wikipedia.org/wiki/Countdown_(game_show))\n",
    "\n",
    "<b>Game Rules</b>\n",
    "1. <b>Number Selection:</b> Six numbers are selected from two sets of 1-10 and one of 25, 50, 75, 100.\n",
    "2. <b>Target Generation:</b> A random target number between 101 and 999 is chosen.\n",
    "3. <b>Arithmetic Operations:</b> Contestants can use addition(+), subtraction(-), multiplication(x), and division(÷) to reach the target.\n",
    "4. <b>Operation Constraints:</b> Each of the six numbers can be used once; division must result in whole numbers, and subtraction must yield positive outcomes.\n",
    "5. <b>Scoring:</b> Scoring is based on the closeness of a contestant's result to the target number. Ten points are awarded for reaching the target exactly, \n",
    "seven points for being between one and five away from the target, and five points for being within six and ten from the target.\n",
    "\n",
    "Example: [2](https://www.maths-resources.com/countdown/practise.html#numbers) <br/>\n",
    "![image.png](attachment:image.png) <br/>\n",
    "The 6 Random Numbers are 5, 9, 4, 7, 6, 3. The target to reach is 215.<br/>\n",
    "<b>Solution:</b><br/>\n",
    "7 + 3 = 10 <br/>\n",
    "10 * 5 * 4 = 200 <br/>\n",
    "200 + 9 + 6 = <b>215</b>\n",
    "\n",
    "### Computational Problems:\n",
    "The game encapsulates several computational problems typical in everyday computing tasks, such as optimization, search, and constraint satisfaction.\n",
    "\n",
    "* <b>Optimization:</b> Finding the most efficient way to reach the target number represents an optimization problem, where efficiency is measured by the closeness to the target number and the minimality of operations used.\n",
    "* <b>Search Problem:</b> The process of exploring the possible combinations of numbers and operations to achieve the target number can be viewed as a search problem within a vast solution space.\n",
    "* <b>Constraint Satisfaction:</b> The game's rules introduce constraints(e.g., operation results must be whole numbers), turning the challenge into a constraint satisfaction problem, where solutions must adhere to specific requirements.\n",
    "\n",
    "### Common Computational Models:\n",
    "In addresing these computational problems, we refer to common models of computation that provide the theoretical framework for understanding and designing algorithms:\n",
    "\n",
    "* <b>Turing Machines:</b> As a universal model of computation, Turing machines offer a way to represent the computations needed to solve the numbers game through state transitions and symbol manipulations[3](https://drive.uqu.edu.sa/_/mskhayat/files/MySubjects/20189FS%20ComputationTheory/Introduction%20to%20the%20theory%20of%20computation_third%20edition%20-%20Michael%20Sipser.pdf).\n",
    "* <b>Lambda Calculus:</b> This formal system for expressing computation based on function abstraction and application can be used to model the functional programming aspects of solving the game[4](https://www.cambridge.org/core/journals/journal-of-symbolic-logic/article/abs/h-p-barendregt-the-lambda-calculus-its-syntax-and-semantics-studies-in-logic-and-foundations-of-mathematics-vol-103-northholland-publishing-company-amsterdam-new-york-and-oxford-1981-xiv-615-pp/74028D727872CB212F8F2F0D27775A10)\n",
    "* <b>Von Neumann Architecture:</b> While not a computational model per se, udnerstanding the practicla execution of algorithms on hardware (sequential instruction processing) can shed light on performance considerations[5](https://acs.pub.ro/~cpop/SMPA/Computer%20Architecture%20A%20Quantitative%20Approach%20(5th%20edition).pdf).\n",
    "\n",
    "### Computational Paradigms in Program Design\n",
    "Solving the Countdown numbers game involves leveraging different computational paradigms:\n",
    "\n",
    "* <b>Procedural Programming:</b> Directly translating the solution algorithm into a sequence of computational steps.\n",
    "* <b>Object-oriented Programming:</b> Modeling game elements (numbers, operations) as objects to encapsulate behavior and data.\n",
    "* <b>Functional Programming:</b> Using pure functions and avoiding shared state to express the solution in a declarative manner, facilitating reasoning about the algorithm's correctness and potential parallel execution."
   ]
  },
  {
   "cell_type": "markdown",
   "metadata": {},
   "source": [
    "## 2. Computational Complexity Analysis\n",
    "The Countdown numbers game, at its core, involves solving a number-targeting problem through arithmetic operations. The computational complexity of this game can be assessed from two main perspectives: the search space complexity and the algorithmetic complexity.\n",
    "\n",
    "### Search Space Complexity\n",
    "The search space for the Countdown numbers game is vast. With six numbers and four possible operations, the number of possible combinations can be significant. The complexity can be approximated by considering the permutations of numbers and the combinations of operations. If $N$ represents the total number of numbers and $O$ the numbers of operations, the search space complexity can be approximated as $ O(N!\\times O^N) $, achknowledging that each number can be used once and each operation can be applied in various sequence.\n",
    "\n",
    "### Algorithmic Complexity\n",
    "The algorithm to solve the Countdown numbers game can vary in complexity based on the approach taken. A brute-force method, which tries every possible combinations of numbers and operations, has an exponential time complexity. However, more sophisticated algorithms that employ heuristic methods or pruning strategies to reduce the search space can achieve better efficiency. The goal is to minimize the time complexity while ensuring that the algorithm remains feasible for execution within practical limits.\n",
    "\n",
    "### Solution Approach Methodology\n",
    "To tackle the Countdown numbers game, a multi-faceted approach is proposed, integrating both brute-force and heuristic strategies. \n",
    "\n",
    "#### Brute-Force Component\n",
    "1. <b>Enumeration of Possibilities:</b> Generate all possible sequences of numbers and operations.\n",
    "2. <b>Evaluation:</b> Assess each combination to check if it reaches the target number.\n",
    "3. <b>Constraint Handling:</b> Ensure division results in whole numbers and subtraction in positive numbers.\n",
    "\n",
    "#### Heuristic Component\n",
    "1. <b>Nearest Neighbor Heuristic:</b> Prioritize operations that bring the result closer to the target number.\n",
    "2. <b>Pruning:</b> Eliminate paths that violate constraints or diverge significantly from the target, reducing the search space.\n",
    "3. <b>Iterative Deepening:</b> Explore the search space iteratively, starting with simpler combinations and gradually increasing complexity.\n",
    "\n",
    "### Research Findings\n",
    "A review of existing literature reveals that hte Countdown numbers game is akin to other well-studied computational problems, such as the Knapsack Problem[6](https://www.geeksforgeeks.org/introduction-to-knapsack-problem-its-types-and-how-to-solve-them/) and the Traveling Salesman problem [(7)](https://www.geeksforgeeks.org/travelling-salesman-problem-using-dynamic-programming/).\n",
    "\n",
    "* <b>Comparison with Similar Problems:</b> The methodologies in solving classical optimisation problems offer insights into tackling the Countdown game. Techniques like dynamic programming, backtracking and branch and bound have proven effective in similar contexts[8](https://link.springer.com/chapter/10.1007/978-3-319-91908-9_3).\n",
    "* <b>Innovative Approaches:</b> Recent research has investigated the use of genetic algorithms, simulated annealing, and neural networks to solve numerical optimisation challenges. These methods could be applied to create more efficient solutions for the Countdown numbers game[9](https://dl.acm.org/doi/10.5555/534133).\n",
    "* <b>Algorithmic Improvements:</b> Continuous research in algorithmic theory provides new strategies for improving the efficiency of search algorithms, potentially applicable to solving the Countdown game more effectively[10](https://pd.daffodilvarsity.edu.bd/course/material/book-430/pdf_content)."
   ]
  },
  {
   "cell_type": "markdown",
   "metadata": {},
   "source": [
    "## 3. Development of the 'solve_numbers' Function\n",
    "The <b>solve_numbers</b> function aims to find a way to reach a given target number using a set of six numbers and the operations of addition, subtraction, multiplication and division under specific constraints.\n",
    "\n",
    "### Valid Operations Check\n",
    "The function `valid_operation` ensures that the operations applied to the numbers are valid under the game rules:\n",
    "- **Division** (`/`): The function checks that no division by zero occurs and the division must result in an integer (no remainders).\n",
    "- **Subtraction** (`-`): Ensures the result of subtraction is non-negative, adhering to the game's constraints."
   ]
  },
  {
   "cell_type": "code",
   "execution_count": 1,
   "metadata": {},
   "outputs": [],
   "source": [
    "from itertools import permutations\n",
    "\n",
    "def valid_operation(a, op, b):\n",
    "    # Check for division by zero and non-integer results\n",
    "    if op == '/' and (b == 0 or a % b != 0):\n",
    "        return False\n",
    "    # Ensure subtraction does not result in negative values\n",
    "    if op == '-' and (a - b < 0):\n",
    "        return False\n",
    "    return True"
   ]
  },
  {
   "cell_type": "markdown",
   "metadata": {},
   "source": [
    "### Apply Operation\n",
    "Function `apply_operation` applies the chosen arithmetic operation between two numbers. It supports:\n",
    "- Addition (`+`)\n",
    "- Subtraction (`-`)\n",
    "- Multiplication (`*`)\n",
    "- Integer Division (`/`)\n",
    "Each operation is straightforward, reflecting basic arithmetic, with integer division ensuring whole number results as per game rules.\n"
   ]
  },
  {
   "cell_type": "code",
   "execution_count": 2,
   "metadata": {},
   "outputs": [],
   "source": [
    "def apply_operation(a, op, b):\n",
    "    if op == '+': return a + b\n",
    "    if op == '-': return a - b\n",
    "    if op == '*': return a * b\n",
    "    if op == '/': return a // b"
   ]
  },
  {
   "cell_type": "markdown",
   "metadata": {},
   "source": [
    "### Solve Numbers Function\n",
    "This section describes the recursive solution to find a valid sequence of operations that achieves the target number. The `solve_numbers` function tries to apply all permutations of the input numbers, and for each permutation, it recursively tries to find a valid operation sequence using `solve_recursive`.\n",
    "\n",
    "### Recursive Problem Solving\n",
    "The `solve_recursive` function takes a list of numbers and the target as inputs. It tries to apply operations between pairs of numbers recursively:\n",
    "1. **Base Case**: If the list has one number and it matches the target, a solution is found.\n",
    "2. **Recursive Case**: If not, the function tries combining each pair of numbers using valid operations and recurses with the result replacing the original two numbers.\n",
    "\n",
    "Each step either progresses towards a solution or concludes that the current path does not lead to a solution, backtracking as necessary.\n"
   ]
  },
  {
   "cell_type": "code",
   "execution_count": 3,
   "metadata": {},
   "outputs": [
    {
     "name": "stdout",
     "output_type": "stream",
     "text": [
      "Solution: (100 - 10) -> (90 * 2) -> (180 - 2) -> (75 * 9) -> (675 + 178) -> 853\n"
     ]
    }
   ],
   "source": [
    "def solve_recursive(numbers, target):\n",
    "     # Base case: single number left must match the target\n",
    "    if len(numbers) == 1:\n",
    "        if numbers[0] == target:\n",
    "            return str(numbers[0])\n",
    "        else:\n",
    "            return None\n",
    "    \n",
    "    # Recursive case: try all pairs of numbers and valid operations\n",
    "    for i in range(len(numbers)):\n",
    "        for j in range(len(numbers)):\n",
    "            if i != j:\n",
    "                for op in ['+', '-', '*', '/']:\n",
    "                    if valid_operation(numbers[i], op, numbers[j]):\n",
    "                        new_number = apply_operation(numbers[i], op, numbers[j])\n",
    "                        new_numbers = [new_number] + [numbers[k] for k in range(len(numbers)) if k != i and k != j]\n",
    "                        result = solve_recursive(new_numbers, target)\n",
    "                        if result is not None:\n",
    "                            return f\"({numbers[i]} {op} {numbers[j]}) -> \" + result\n",
    "    return None\n",
    "\n",
    "def solve_numbers(numbers, target):\n",
    "    for p in permutations(numbers):\n",
    "        result = solve_recursive(p, target)\n",
    "        if result is not None:\n",
    "            return result\n",
    "    return None\n",
    "\n",
    "# Example use case\n",
    "numbers = [100, 75, 10, 2, 2, 9]\n",
    "target = 853\n",
    "solution = solve_numbers(numbers, target)\n",
    "print(\"Solution:\", solution if solution else \"No solution found\")"
   ]
  },
  {
   "cell_type": "code",
   "execution_count": 4,
   "metadata": {},
   "outputs": [
    {
     "name": "stdout",
     "output_type": "stream",
     "text": [
      "Test Case 1: (25 - 8) -> (50 + 3) -> (53 * 75) -> (3975 / 5) -> (795 + 17) -> 812\n",
      "Test Case 2: (3 + 75) -> (78 - 5) -> (25 - 8) -> (17 * 50) -> (850 - 73) -> 777\n",
      "Test Case 3: (1 * 3) -> (5 + 9) -> (14 + 100) -> (7 - 3) -> (4 * 114) -> 456\n"
     ]
    }
   ],
   "source": [
    "# Additional Tests\n",
    "print(\"Test Case 1:\", solve_numbers([25, 50, 75, 5, 3, 8], 812))\n",
    "print(\"Test Case 2:\", solve_numbers([3, 5, 75, 8, 50, 25], 777))\n",
    "print(\"Test Case 3:\", solve_numbers([1, 3, 5, 7, 9, 100], 456))"
   ]
  },
  {
   "cell_type": "markdown",
   "metadata": {},
   "source": [
    "## Conclusion\n",
    "\n",
    "This Jupyter notebook has detailed the implementation of a recursive solution to solve the Countdown numbers game. The approach detailed herein utilizes a combination of permutation exploration and recursive depth-first search to systematically find a sequence of operations that achieve a target number from a given set of six numbers. This method adheres to the operational rules of the Countdown game, including integer-only division and non-negative subtraction.\n",
    "\n",
    "The solution provided is designed to be both educational and practical, illustrating the application of computational theories such as combinatorial optimization, recursion, and the use of heuristic principles that guide the search process towards a more likely solution space.\n",
    "\n",
    "### Future Directions\n",
    "\n",
    "Further improvements could include the integration of more advanced algorithmic strategies such as dynamic programming to cache intermediate results or the use of more sophisticated heuristic algorithms like genetic algorithms or simulated annealing to optimize the search process. Additionally, exploring parallel processing frameworks could potentially decrease solution time significantly, making the solver applicable in real-time game environments.\n",
    "\n",
    "### Acknowledgments\n",
    "\n",
    "The development of the `solve_numbers` function was inspired by various sources, including an existing implementation by a GitHub repository which can be found [here](https://github.com/exitexit/countdown-numbers-solver/blob/main/countdown_numbers_solver.py). This repository provided a foundational idea that was expanded upon and adapted to fit the specific requirements and constraints of this project. The adaptation was necessary to tailor the function to the specific format and rules of the TV programme Countdown as discussed herein.\n",
    "\n",
    "The mathematical and algorithmic approach discussed in this notebook also draws from classical problems in computer science, as detailed in the literature provided in the references section. The combination of these sources provides a robust theoretical and practical foundation for the solver implemented in this project.\n"
   ]
  },
  {
   "cell_type": "markdown",
   "metadata": {},
   "source": [
    "# References\n",
    "1. Wikipedia *Countdown Numbers Game.* \\\n",
    "Explains the game show Countdown\n",
    "2. *Maths-Resources.* \\\n",
    "Allows users to play an online game of Countdown Numbers\n",
    "3. Sipser, M. (2013). *Introduction to the Theory of Computation.* \\\n",
    "Explains the concept of Turing machines as a fundamental model of computation.\n",
    "4. Barendregt, H. (1984). *The Lambda Calculus, Its Syntax and Semantics.* \\\n",
    "Studies in Logic and the Foundations of Mathemtics. Offers a comprehensive overview of lambda calculus as a model for computation.\n",
    "5. Hennessy, J. L., & Patterson, D. A. (2011). *Computer Architecture: A Quantitative Approach.* \\\n",
    "Discusses the von Neumann architecture and its relevance to executing computational algorithms.\n",
    "6. Animeshdey (2023). GeeksForGeeks. *Introduction to Knapsack Problem, its Types and How to solve them*.\n",
    "7. GeeksForGeeks (2023). *Travelling salesman Problem using Dynamic Programming*.\n",
    "8. Korte, B., & Vygen, J. (2012). Springer. *Combinatorial Optimization: Theory and Algorithms.* \\\n",
    "Discusses algorithms and strategies for solving combinatorial optimization problems. \n",
    "9. Goldberg, D. E. (1989). ACM Digital Library. *Genetic Algorithms in Search, Optimization, and Machine Learning* \\\n",
    "Explores the use of genetic algorithms for optimisation problems. \n",
    "10. Cormen, T. H., Leiserson, C. E., Rivest, R. L., & Stein, C. (2009). Daffodilvarsity. *Introduction to Algorithms (Third Edition).* \\\n",
    "Provides a comprehensive overview of algorithmic strategies, including those applicable to optimization and search problems.\n",
    "11. [Countdown Number Game Solver by exitexit on GitHub](https://github.com/exitexit/countdown-numbers-solver/blob/main/countdown_numbers_solver.py) - Provided initial inspiration for the recursive approach to solving the Countdown numbers game."
   ]
  }
 ],
 "metadata": {
  "kernelspec": {
   "display_name": "base",
   "language": "python",
   "name": "python3"
  },
  "language_info": {
   "codemirror_mode": {
    "name": "ipython",
    "version": 3
   },
   "file_extension": ".py",
   "mimetype": "text/x-python",
   "name": "python",
   "nbconvert_exporter": "python",
   "pygments_lexer": "ipython3",
   "version": "3.9.18"
  }
 },
 "nbformat": 4,
 "nbformat_minor": 2
}
