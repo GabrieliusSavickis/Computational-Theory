{
 "cells": [
  {
   "cell_type": "markdown",
   "metadata": {},
   "source": [
    "# Scrapbook - Countdown"
   ]
  },
  {
   "cell_type": "markdown",
   "metadata": {},
   "source": [
    "In this scrapbook, I will create a structured plan that align's with the briefs requirements. I will link any relevant sources I find, and I will regularly reviewe and refactor the plan based on the content and ideas I come across."
   ]
  },
  {
   "cell_type": "markdown",
   "metadata": {},
   "source": [
    "## 1. Research & Understanding the Problem\n",
    "\n",
    "### Understand the Countdown Numbers Game: \n",
    "Research the rules and mechanics of the game. The brief explains it well. But it's worth watching a few episodes of the show to start thinking the way the contestants are. This will help in designing the algorithm and understanding the computational challenges.\n",
    "\n",
    "### Indentify Computational Problems:\n",
    "Recognize the computational difficulties inherent in the game, such as dealing with permutations and combinations of numbers and operations.\n",
    "\n",
    "### Define the Common Computational Models:\n",
    "Review common models of computation such as turing machines, finite automata and lambda calculus. [1](https://cs.brown.edu/people/jsavage/book/pdfs/ModelsOfComputation.pdf)\n",
    "\n",
    "### Research Algorithm Complexity:\n",
    "Look into existing literature on algorithm complexity, focusing on problems of a similar nature to the Countdown game.\n"
   ]
  },
  {
   "cell_type": "markdown",
   "metadata": {},
   "source": [
    "***"
   ]
  },
  {
   "cell_type": "markdown",
   "metadata": {},
   "source": [
    "# 2. Designing the Program\n",
    "\n",
    "### Define Computational Paradigms: \n",
    "Decide which computational paradigms (e.g., imperative, functional, object-oriented) are most suitable for this problem. [2](https://www.geeksforgeeks.org/introduction-of-programming-paradigms/)\n",
    "\n",
    "### Algorithm Development:\n",
    "Develop algorithms to solve the game. Consider brute force approach. \n",
    "\n",
    "### Function Design:\n",
    "Design the 'solve_numbers' function with clear input and output specifications.\n",
    "\n",
    "### Near-Solution Handling:\n",
    "Implement logic to handle cases where an exact solution is not found but a close approximation is possible. \n"
   ]
  },
  {
   "cell_type": "markdown",
   "metadata": {},
   "source": [
    "***"
   ]
  },
  {
   "cell_type": "markdown",
   "metadata": {},
   "source": [
    "# 3. Implementation\n",
    "\n",
    "### Code the Solution:\n",
    "Write the python code for the 'solve_numbers' function. Ensure the code is clean and well commented.\n",
    "\n",
    "### Functional Programming Aspects:\n",
    "Explain the utilization of the functional programming paradigm in the solution.\n",
    "\n",
    "### Testing:\n",
    "Create tests to validate correctness of the solution, including cases where no solution exists. "
   ]
  }
 ],
 "metadata": {
  "language_info": {
   "name": "python"
  }
 },
 "nbformat": 4,
 "nbformat_minor": 2
}
