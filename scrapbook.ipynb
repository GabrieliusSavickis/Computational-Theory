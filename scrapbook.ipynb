{
 "cells": [
  {
   "cell_type": "markdown",
   "metadata": {},
   "source": [
    "# Scrapbook - Countdown"
   ]
  },
  {
   "cell_type": "markdown",
   "metadata": {},
   "source": [
    "In this scrapbook, I will create a structured plan that align's with the briefs requirements. I will link any relevant sources I find, and I will regularly review and refactor the plan based on the content and ideas I come across."
   ]
  },
  {
   "cell_type": "markdown",
   "metadata": {},
   "source": [
    "## 1. Purpose and Topic Understanding\n",
    "<b>Identify Difficult Computational Problems:</b>\n",
    "* Enumerating all possible combinations of numbers and operations to reach the target number.\n",
    "* Ensuring division and subtraction constraints are respected.\n",
    "\n",
    "<b>Define Common Models of Computation:</b>\n",
    "* Discuss Turing machines, lambda calculus, and von Neumann architecture as foundational models.[1](https://cs.brown.edu/people/jsavage/book/pdfs/ModelsOfComputation.pdf)\n",
    "\n",
    "<b>Design Computer Programs Using Various Computational Paradigms:</b>\n",
    "* Procedural, object-oriented, and functional programming paradigms and their relevance to this project.[2](https://www.geeksforgeeks.org/introduction-of-programming-paradigms/)\n",
    "\n",
    "<b>Analyse the Complexity of an Algorithm:</b>\n",
    "* The computational complexity of brute-force vs heuristic algorithms for this problem."
   ]
  },
  {
   "cell_type": "markdown",
   "metadata": {},
   "source": [
    "## 2. Research & Understanding the Problem (Theory Element)\n",
    "\n",
    "<b>Understand the Countdown Numbers Game:</b>\n",
    "* Research the rules and mechanics of the game. The brief explains it well. But it's worth watching a few episodes of the show to start thinking the way the contestants are. This will help in designing the algorithm and understanding the computational challenges.\n",
    "\n",
    "<b>Computational Complexity Analysis:</b>\n",
    "* Discuss the search space, time complexity and space complexity.\n",
    "\n",
    "<b>Solution Approach Methodology:</b>\n",
    "* Algorithm design principles, including brute-force and heuristic approaches.\n",
    "\n",
    "<b>Research Findings:</b>\n",
    "* Summary of literature review and comparison to existing solutions."
   ]
  },
  {
   "cell_type": "markdown",
   "metadata": {},
   "source": [
    "# 3. Designing the Program (Implementation Element)\n",
    "\n",
    "<b>Development of 'solve_numbers' Function:</b>\n",
    "* Python function code that implements the solution strategy.\n",
    "\n",
    "<b>Usage Examples:</b>\n",
    "* Demonstrations of the function with various input sets.\n",
    "\n",
    "<b>Functional Programming Aspects:</b>\n",
    "* Explanation of how and why functional programming concepts are applied."
   ]
  }
 ],
 "metadata": {
  "language_info": {
   "name": "python"
  }
 },
 "nbformat": 4,
 "nbformat_minor": 2
}
